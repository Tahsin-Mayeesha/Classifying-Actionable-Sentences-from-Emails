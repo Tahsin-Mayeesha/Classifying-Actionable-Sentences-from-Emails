{
 "cells": [
  {
   "cell_type": "code",
   "execution_count": 1,
   "metadata": {
    "_cell_guid": "b1076dfc-b9ad-4769-8c92-a6c4dae69d19",
    "_uuid": "8f2839f25d086af736a60e9eeb907d3b93b6e0e5",
    "execution": {
     "iopub.execute_input": "2020-08-16T18:12:17.896731Z",
     "iopub.status.busy": "2020-08-16T18:12:17.895700Z",
     "iopub.status.idle": "2020-08-16T18:12:17.906223Z",
     "shell.execute_reply": "2020-08-16T18:12:17.905184Z"
    },
    "papermill": {
     "duration": 0.027531,
     "end_time": "2020-08-16T18:12:17.906399",
     "exception": false,
     "start_time": "2020-08-16T18:12:17.878868",
     "status": "completed"
    },
    "tags": []
   },
   "outputs": [
    {
     "name": "stdout",
     "output_type": "stream",
     "text": [
      "/kaggle/input/enron-email-dataset/emails.csv\n"
     ]
    }
   ],
   "source": [
    "# This Python 3 environment comes with many helpful analytics libraries installed\n",
    "# It is defined by the kaggle/python Docker image: https://github.com/kaggle/docker-python\n",
    "# For example, here's several helpful packages to load\n",
    "\n",
    "import numpy as np # linear algebra\n",
    "import pandas as pd # data processing, CSV file I/O (e.g. pd.read_csv)\n",
    "\n",
    "# Input data files are available in the read-only \"../input/\" directory\n",
    "# For example, running this (by clicking run or pressing Shift+Enter) will list all files under the input directory\n",
    "\n",
    "import os\n",
    "for dirname, _, filenames in os.walk('/kaggle/input'):\n",
    "    for filename in filenames:\n",
    "        print(os.path.join(dirname, filename))\n",
    "\n",
    "# You can write up to 5GB to the current directory (/kaggle/working/) that gets preserved as output when you create a version using \"Save & Run All\" \n",
    "# You can also write temporary files to /kaggle/temp/, but they won't be saved outside of the current session"
   ]
  },
  {
   "cell_type": "code",
   "execution_count": 2,
   "metadata": {
    "_cell_guid": "79c7e3d0-c299-4dcb-8224-4455121ee9b0",
    "_uuid": "d629ff2d2480ee46fbb7e2d37f6b5fab8052498a",
    "execution": {
     "iopub.execute_input": "2020-08-16T18:12:17.932656Z",
     "iopub.status.busy": "2020-08-16T18:12:17.931863Z",
     "iopub.status.idle": "2020-08-16T18:12:34.444032Z",
     "shell.execute_reply": "2020-08-16T18:12:34.443302Z"
    },
    "papermill": {
     "duration": 16.528842,
     "end_time": "2020-08-16T18:12:34.444169",
     "exception": false,
     "start_time": "2020-08-16T18:12:17.915327",
     "status": "completed"
    },
    "tags": []
   },
   "outputs": [],
   "source": [
    "emails = pd.read_csv(\"/kaggle/input/enron-email-dataset/emails.csv\")"
   ]
  },
  {
   "cell_type": "code",
   "execution_count": 3,
   "metadata": {
    "execution": {
     "iopub.execute_input": "2020-08-16T18:12:34.465902Z",
     "iopub.status.busy": "2020-08-16T18:12:34.464749Z",
     "iopub.status.idle": "2020-08-16T18:12:34.468730Z",
     "shell.execute_reply": "2020-08-16T18:12:34.467991Z"
    },
    "papermill": {
     "duration": 0.016909,
     "end_time": "2020-08-16T18:12:34.468881",
     "exception": false,
     "start_time": "2020-08-16T18:12:34.451972",
     "status": "completed"
    },
    "tags": []
   },
   "outputs": [],
   "source": [
    "import email"
   ]
  },
  {
   "cell_type": "code",
   "execution_count": 4,
   "metadata": {
    "execution": {
     "iopub.execute_input": "2020-08-16T18:12:34.492366Z",
     "iopub.status.busy": "2020-08-16T18:12:34.491187Z",
     "iopub.status.idle": "2020-08-16T18:12:34.495377Z",
     "shell.execute_reply": "2020-08-16T18:12:34.494274Z"
    },
    "papermill": {
     "duration": 0.018903,
     "end_time": "2020-08-16T18:12:34.495568",
     "exception": false,
     "start_time": "2020-08-16T18:12:34.476665",
     "status": "completed"
    },
    "tags": []
   },
   "outputs": [],
   "source": [
    "def get_content_from_email(message):\n",
    "    message = email.message_from_string(message)\n",
    "    for part in message.walk():\n",
    "        text = part.get_payload()\n",
    "    return text"
   ]
  },
  {
   "cell_type": "code",
   "execution_count": 5,
   "metadata": {
    "execution": {
     "iopub.execute_input": "2020-08-16T18:12:34.548532Z",
     "iopub.status.busy": "2020-08-16T18:12:34.532876Z",
     "iopub.status.idle": "2020-08-16T18:14:32.379292Z",
     "shell.execute_reply": "2020-08-16T18:14:32.378404Z"
    },
    "papermill": {
     "duration": 117.872506,
     "end_time": "2020-08-16T18:14:32.379457",
     "exception": false,
     "start_time": "2020-08-16T18:12:34.506951",
     "status": "completed"
    },
    "tags": []
   },
   "outputs": [],
   "source": [
    "email_texts = []\n",
    "\n",
    "for message in emails['message']:\n",
    "    email_texts.append(get_content_from_email(message))"
   ]
  },
  {
   "cell_type": "code",
   "execution_count": 6,
   "metadata": {
    "execution": {
     "iopub.execute_input": "2020-08-16T18:14:32.402597Z",
     "iopub.status.busy": "2020-08-16T18:14:32.401779Z",
     "iopub.status.idle": "2020-08-16T18:15:18.552496Z",
     "shell.execute_reply": "2020-08-16T18:15:18.551692Z"
    },
    "papermill": {
     "duration": 46.164398,
     "end_time": "2020-08-16T18:15:18.552647",
     "exception": false,
     "start_time": "2020-08-16T18:14:32.388249",
     "status": "completed"
    },
    "tags": []
   },
   "outputs": [],
   "source": [
    "pd.Series(email_texts).to_csv(\"email_texts.csv\")"
   ]
  },
  {
   "cell_type": "code",
   "execution_count": null,
   "metadata": {
    "papermill": {
     "duration": 0.008101,
     "end_time": "2020-08-16T18:15:18.569524",
     "exception": false,
     "start_time": "2020-08-16T18:15:18.561423",
     "status": "completed"
    },
    "tags": []
   },
   "outputs": [],
   "source": []
  }
 ],
 "metadata": {
  "kernelspec": {
   "display_name": "Python 3",
   "language": "python",
   "name": "python3"
  },
  "language_info": {
   "codemirror_mode": {
    "name": "ipython",
    "version": 3
   },
   "file_extension": ".py",
   "mimetype": "text/x-python",
   "name": "python",
   "nbconvert_exporter": "python",
   "pygments_lexer": "ipython3",
   "version": "3.7.6"
  },
  "papermill": {
   "duration": 187.055059,
   "end_time": "2020-08-16T18:15:18.787425",
   "environment_variables": {},
   "exception": null,
   "input_path": "__notebook__.ipynb",
   "output_path": "__notebook__.ipynb",
   "parameters": {},
   "start_time": "2020-08-16T18:12:11.732366",
   "version": "2.1.0"
  }
 },
 "nbformat": 4,
 "nbformat_minor": 4
}
