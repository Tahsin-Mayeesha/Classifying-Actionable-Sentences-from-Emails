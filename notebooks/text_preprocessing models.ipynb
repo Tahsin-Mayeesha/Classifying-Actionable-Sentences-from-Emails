{
 "cells": [
  {
   "cell_type": "code",
   "execution_count": 1,
   "metadata": {
    "_cell_guid": "b1076dfc-b9ad-4769-8c92-a6c4dae69d19",
    "_uuid": "8f2839f25d086af736a60e9eeb907d3b93b6e0e5",
    "execution": {
     "iopub.execute_input": "2020-09-02T10:30:12.087717Z",
     "iopub.status.busy": "2020-09-02T10:30:12.086815Z",
     "iopub.status.idle": "2020-09-02T10:30:12.095033Z",
     "shell.execute_reply": "2020-09-02T10:30:12.095767Z"
    },
    "papermill": {
     "duration": 0.031498,
     "end_time": "2020-09-02T10:30:12.096005",
     "exception": false,
     "start_time": "2020-09-02T10:30:12.064507",
     "status": "completed"
    },
    "tags": []
   },
   "outputs": [
    {
     "name": "stdout",
     "output_type": "stream",
     "text": [
      "/kaggle/input/rule-based-model2/__results__.html\n",
      "/kaggle/input/rule-based-model2/email_labelled.csv\n",
      "/kaggle/input/rule-based-model2/eamil_labelled.csv\n",
      "/kaggle/input/rule-based-model2/custom.css\n",
      "/kaggle/input/rule-based-model2/__notebook__.ipynb\n",
      "/kaggle/input/rule-based-model2/__output__.json\n"
     ]
    }
   ],
   "source": [
    "# This Python 3 environment comes with many helpful analytics libraries installed\n",
    "# It is defined by the kaggle/python Docker image: https://github.com/kaggle/docker-python\n",
    "# For example, here's several helpful packages to load\n",
    "\n",
    "import numpy as np # linear algebra\n",
    "import pandas as pd # data processing, CSV file I/O (e.g. pd.read_csv)\n",
    "\n",
    "# Input data files are available in the read-only \"../input/\" directory\n",
    "# For example, running this (by clicking run or pressing Shift+Enter) will list all files under the input directory\n",
    "\n",
    "import os\n",
    "for dirname, _, filenames in os.walk('/kaggle/input'):\n",
    "    for filename in filenames:\n",
    "        print(os.path.join(dirname, filename))\n",
    "\n",
    "# You can write up to 5GB to the current directory (/kaggle/working/) that gets preserved as output when you create a version using \"Save & Run All\" \n",
    "# You can also write temporary files to /kaggle/temp/, but they won't be saved outside of the current session"
   ]
  },
  {
   "cell_type": "code",
   "execution_count": 2,
   "metadata": {
    "execution": {
     "iopub.execute_input": "2020-09-02T10:30:12.132314Z",
     "iopub.status.busy": "2020-09-02T10:30:12.131202Z",
     "iopub.status.idle": "2020-09-02T10:30:12.153802Z",
     "shell.execute_reply": "2020-09-02T10:30:12.153064Z"
    },
    "papermill": {
     "duration": 0.044323,
     "end_time": "2020-09-02T10:30:12.153938",
     "exception": false,
     "start_time": "2020-09-02T10:30:12.109615",
     "status": "completed"
    },
    "tags": []
   },
   "outputs": [],
   "source": [
    "df = pd.read_csv(\"/kaggle/input/rule-based-model2/eamil_labelled.csv\")"
   ]
  },
  {
   "cell_type": "code",
   "execution_count": 3,
   "metadata": {
    "execution": {
     "iopub.execute_input": "2020-09-02T10:30:12.184184Z",
     "iopub.status.busy": "2020-09-02T10:30:12.183417Z",
     "iopub.status.idle": "2020-09-02T10:30:31.032978Z",
     "shell.execute_reply": "2020-09-02T10:30:31.032120Z"
    },
    "papermill": {
     "duration": 18.86706,
     "end_time": "2020-09-02T10:30:31.033115",
     "exception": false,
     "start_time": "2020-09-02T10:30:12.166055",
     "status": "completed"
    },
    "tags": []
   },
   "outputs": [
    {
     "name": "stdout",
     "output_type": "stream",
     "text": [
      "Collecting texthero\r\n",
      "  Downloading texthero-1.0.9-py3-none-any.whl (25 kB)\r\n",
      "Requirement already satisfied: scikit-learn>=0.22 in /opt/conda/lib/python3.7/site-packages (from texthero) (0.23.2)\r\n",
      "Requirement already satisfied: wordcloud>=1.5.0 in /opt/conda/lib/python3.7/site-packages (from texthero) (1.8.0)\r\n",
      "Requirement already satisfied: gensim>=3.6.0 in /opt/conda/lib/python3.7/site-packages (from texthero) (3.8.3)\r\n",
      "Requirement already satisfied: spacy>=2.2.2 in /opt/conda/lib/python3.7/site-packages (from texthero) (2.2.4)\r\n",
      "Requirement already satisfied: matplotlib>=3.1.0 in /opt/conda/lib/python3.7/site-packages (from texthero) (3.2.1)\r\n",
      "Requirement already satisfied: tqdm>=4.3 in /opt/conda/lib/python3.7/site-packages (from texthero) (4.45.0)\r\n",
      "Requirement already satisfied: plotly>=4.2.0 in /opt/conda/lib/python3.7/site-packages (from texthero) (4.9.0)\r\n",
      "Requirement already satisfied: numpy>=1.17 in /opt/conda/lib/python3.7/site-packages (from texthero) (1.18.5)\r\n",
      "Requirement already satisfied: unidecode>=1.1.1 in /opt/conda/lib/python3.7/site-packages (from texthero) (1.1.1)\r\n",
      "Collecting nltk>=3.3\r\n",
      "  Downloading nltk-3.5.zip (1.4 MB)\r\n",
      "\u001b[K     |████████████████████████████████| 1.4 MB 263 kB/s \r\n",
      "\u001b[?25hRequirement already satisfied: pandas>=1.0.2 in /opt/conda/lib/python3.7/site-packages (from texthero) (1.1.1)\r\n",
      "Requirement already satisfied: scipy>=0.19.1 in /opt/conda/lib/python3.7/site-packages (from scikit-learn>=0.22->texthero) (1.4.1)\r\n",
      "Requirement already satisfied: threadpoolctl>=2.0.0 in /opt/conda/lib/python3.7/site-packages (from scikit-learn>=0.22->texthero) (2.1.0)\r\n",
      "Requirement already satisfied: joblib>=0.11 in /opt/conda/lib/python3.7/site-packages (from scikit-learn>=0.22->texthero) (0.14.1)\r\n",
      "Requirement already satisfied: pillow in /opt/conda/lib/python3.7/site-packages (from wordcloud>=1.5.0->texthero) (7.2.0)\r\n",
      "Requirement already satisfied: six>=1.5.0 in /opt/conda/lib/python3.7/site-packages (from gensim>=3.6.0->texthero) (1.14.0)\r\n",
      "Requirement already satisfied: smart-open>=1.8.1 in /opt/conda/lib/python3.7/site-packages (from gensim>=3.6.0->texthero) (2.1.0)\r\n",
      "Requirement already satisfied: cymem<2.1.0,>=2.0.2 in /opt/conda/lib/python3.7/site-packages (from spacy>=2.2.2->texthero) (2.0.3)\r\n",
      "Requirement already satisfied: catalogue<1.1.0,>=0.0.7 in /opt/conda/lib/python3.7/site-packages (from spacy>=2.2.2->texthero) (1.0.0)\r\n",
      "Requirement already satisfied: setuptools in /opt/conda/lib/python3.7/site-packages (from spacy>=2.2.2->texthero) (46.1.3.post20200325)\r\n",
      "Requirement already satisfied: plac<1.2.0,>=0.9.6 in /opt/conda/lib/python3.7/site-packages (from spacy>=2.2.2->texthero) (1.1.3)\r\n",
      "Requirement already satisfied: thinc==7.4.0 in /opt/conda/lib/python3.7/site-packages (from spacy>=2.2.2->texthero) (7.4.0)\r\n",
      "Requirement already satisfied: wasabi<1.1.0,>=0.4.0 in /opt/conda/lib/python3.7/site-packages (from spacy>=2.2.2->texthero) (0.7.1)\r\n",
      "Requirement already satisfied: srsly<1.1.0,>=1.0.2 in /opt/conda/lib/python3.7/site-packages (from spacy>=2.2.2->texthero) (1.0.2)\r\n",
      "Requirement already satisfied: blis<0.5.0,>=0.4.0 in /opt/conda/lib/python3.7/site-packages (from spacy>=2.2.2->texthero) (0.4.1)\r\n",
      "Requirement already satisfied: requests<3.0.0,>=2.13.0 in /opt/conda/lib/python3.7/site-packages (from spacy>=2.2.2->texthero) (2.23.0)\r\n",
      "Requirement already satisfied: preshed<3.1.0,>=3.0.2 in /opt/conda/lib/python3.7/site-packages (from spacy>=2.2.2->texthero) (3.0.2)\r\n",
      "Requirement already satisfied: murmurhash<1.1.0,>=0.28.0 in /opt/conda/lib/python3.7/site-packages (from spacy>=2.2.2->texthero) (1.0.2)\r\n",
      "Requirement already satisfied: pyparsing!=2.0.4,!=2.1.2,!=2.1.6,>=2.0.1 in /opt/conda/lib/python3.7/site-packages (from matplotlib>=3.1.0->texthero) (2.4.7)\r\n",
      "Requirement already satisfied: cycler>=0.10 in /opt/conda/lib/python3.7/site-packages (from matplotlib>=3.1.0->texthero) (0.10.0)\r\n",
      "Requirement already satisfied: python-dateutil>=2.1 in /opt/conda/lib/python3.7/site-packages (from matplotlib>=3.1.0->texthero) (2.8.1)\r\n",
      "Requirement already satisfied: kiwisolver>=1.0.1 in /opt/conda/lib/python3.7/site-packages (from matplotlib>=3.1.0->texthero) (1.2.0)\r\n",
      "Requirement already satisfied: retrying>=1.3.3 in /opt/conda/lib/python3.7/site-packages (from plotly>=4.2.0->texthero) (1.3.3)\r\n",
      "Requirement already satisfied: click in /opt/conda/lib/python3.7/site-packages (from nltk>=3.3->texthero) (7.1.1)\r\n",
      "Requirement already satisfied: regex in /opt/conda/lib/python3.7/site-packages (from nltk>=3.3->texthero) (2020.4.4)\r\n",
      "Requirement already satisfied: pytz>=2017.2 in /opt/conda/lib/python3.7/site-packages (from pandas>=1.0.2->texthero) (2019.3)\r\n",
      "Requirement already satisfied: boto in /opt/conda/lib/python3.7/site-packages (from smart-open>=1.8.1->gensim>=3.6.0->texthero) (2.49.0)\r\n",
      "Requirement already satisfied: boto3 in /opt/conda/lib/python3.7/site-packages (from smart-open>=1.8.1->gensim>=3.6.0->texthero) (1.14.48)\r\n",
      "Requirement already satisfied: importlib-metadata>=0.20; python_version < \"3.8\" in /opt/conda/lib/python3.7/site-packages (from catalogue<1.1.0,>=0.0.7->spacy>=2.2.2->texthero) (1.6.0)\r\n",
      "Requirement already satisfied: certifi>=2017.4.17 in /opt/conda/lib/python3.7/site-packages (from requests<3.0.0,>=2.13.0->spacy>=2.2.2->texthero) (2020.6.20)\r\n",
      "Requirement already satisfied: idna<3,>=2.5 in /opt/conda/lib/python3.7/site-packages (from requests<3.0.0,>=2.13.0->spacy>=2.2.2->texthero) (2.9)\r\n",
      "Requirement already satisfied: urllib3!=1.25.0,!=1.25.1,<1.26,>=1.21.1 in /opt/conda/lib/python3.7/site-packages (from requests<3.0.0,>=2.13.0->spacy>=2.2.2->texthero) (1.24.3)\r\n",
      "Requirement already satisfied: chardet<4,>=3.0.2 in /opt/conda/lib/python3.7/site-packages (from requests<3.0.0,>=2.13.0->spacy>=2.2.2->texthero) (3.0.4)\r\n",
      "Requirement already satisfied: s3transfer<0.4.0,>=0.3.0 in /opt/conda/lib/python3.7/site-packages (from boto3->smart-open>=1.8.1->gensim>=3.6.0->texthero) (0.3.3)\r\n",
      "Requirement already satisfied: jmespath<1.0.0,>=0.7.1 in /opt/conda/lib/python3.7/site-packages (from boto3->smart-open>=1.8.1->gensim>=3.6.0->texthero) (0.10.0)\r\n",
      "Requirement already satisfied: botocore<1.18.0,>=1.17.48 in /opt/conda/lib/python3.7/site-packages (from boto3->smart-open>=1.8.1->gensim>=3.6.0->texthero) (1.17.48)\r\n",
      "Requirement already satisfied: zipp>=0.5 in /opt/conda/lib/python3.7/site-packages (from importlib-metadata>=0.20; python_version < \"3.8\"->catalogue<1.1.0,>=0.0.7->spacy>=2.2.2->texthero) (3.1.0)\r\n",
      "Requirement already satisfied: docutils<0.16,>=0.10 in /opt/conda/lib/python3.7/site-packages (from botocore<1.18.0,>=1.17.48->boto3->smart-open>=1.8.1->gensim>=3.6.0->texthero) (0.15.2)\r\n",
      "Building wheels for collected packages: nltk\r\n",
      "  Building wheel for nltk (setup.py) ... \u001b[?25l-\b \b\\\b \b|\b \b/\b \b-\b \b\\\b \b|\b \bdone\r\n",
      "\u001b[?25h  Created wheel for nltk: filename=nltk-3.5-py3-none-any.whl size=1434672 sha256=5ec90d2d377820dab047bc47928a41e23ffc3ca41cf4a86df117ff1b508fa83b\r\n",
      "  Stored in directory: /root/.cache/pip/wheels/45/6c/46/a1865e7ba706b3817f5d1b2ff7ce8996aabdd0d03d47ba0266\r\n",
      "Successfully built nltk\r\n",
      "Installing collected packages: nltk, texthero\r\n",
      "  Attempting uninstall: nltk\r\n",
      "    Found existing installation: nltk 3.2.4\r\n",
      "    Uninstalling nltk-3.2.4:\r\n",
      "      Successfully uninstalled nltk-3.2.4\r\n",
      "\u001b[31mERROR: After October 2020 you may experience errors when installing or updating packages. This is because pip will change the way that it resolves dependency conflicts.\r\n",
      "\r\n",
      "We recommend you use --use-feature=2020-resolver to test your packages with the new resolver before it becomes the default.\r\n",
      "\r\n",
      "preprocessing 0.1.13 requires nltk==3.2.4, but you'll have nltk 3.5 which is incompatible.\u001b[0m\r\n",
      "Successfully installed nltk-3.5 texthero-1.0.9\r\n"
     ]
    }
   ],
   "source": [
    "!pip install texthero\n"
   ]
  },
  {
   "cell_type": "code",
   "execution_count": 4,
   "metadata": {
    "execution": {
     "iopub.execute_input": "2020-09-02T10:30:31.105851Z",
     "iopub.status.busy": "2020-09-02T10:30:31.104790Z",
     "iopub.status.idle": "2020-09-02T10:30:36.758526Z",
     "shell.execute_reply": "2020-09-02T10:30:36.757789Z"
    },
    "papermill": {
     "duration": 5.692282,
     "end_time": "2020-09-02T10:30:36.758661",
     "exception": false,
     "start_time": "2020-09-02T10:30:31.066379",
     "status": "completed"
    },
    "tags": []
   },
   "outputs": [],
   "source": [
    "import texthero as hero"
   ]
  },
  {
   "cell_type": "code",
   "execution_count": 5,
   "metadata": {
    "execution": {
     "iopub.execute_input": "2020-09-02T10:30:36.834717Z",
     "iopub.status.busy": "2020-09-02T10:30:36.833879Z",
     "iopub.status.idle": "2020-09-02T10:30:36.836813Z",
     "shell.execute_reply": "2020-09-02T10:30:36.836188Z"
    },
    "papermill": {
     "duration": 0.045408,
     "end_time": "2020-09-02T10:30:36.836936",
     "exception": false,
     "start_time": "2020-09-02T10:30:36.791528",
     "status": "completed"
    },
    "tags": []
   },
   "outputs": [],
   "source": [
    "from nltk.stem import WordNetLemmatizer \n",
    "lemmatizer = WordNetLemmatizer() \n",
    "\n",
    "def lemmatize(sentence):\n",
    "    result = []\n",
    "    for word in sentence.split():\n",
    "        word = lemmatizer.lemmatize(word)\n",
    "        result.append(word)\n",
    "    return \" \".join(result)\n",
    "\n",
    "\n",
    "def preprocess(sentence):\n",
    "    sentence = sentence.replace('\"','')\n",
    "    return sentence\n",
    "    "
   ]
  },
  {
   "cell_type": "code",
   "execution_count": 6,
   "metadata": {
    "execution": {
     "iopub.execute_input": "2020-09-02T10:30:36.955660Z",
     "iopub.status.busy": "2020-09-02T10:30:36.930923Z",
     "iopub.status.idle": "2020-09-02T10:30:39.944015Z",
     "shell.execute_reply": "2020-09-02T10:30:39.943207Z"
    },
    "papermill": {
     "duration": 3.074319,
     "end_time": "2020-09-02T10:30:39.944150",
     "exception": false,
     "start_time": "2020-09-02T10:30:36.869831",
     "status": "completed"
    },
    "tags": []
   },
   "outputs": [],
   "source": [
    "df['text'] = df['text'].pipe(hero.clean) # remove digits, punctuation, diacritics,stopwords, whitespace\n",
    "df['text'] = df['text'].map(lambda x:preprocess(x))\n",
    "df['text'] = df['text'].map(lambda x:lemmatize(x))"
   ]
  },
  {
   "cell_type": "markdown",
   "execution_count": null,
   "metadata": {
    "papermill": {
     "duration": 0.032649,
     "end_time": "2020-09-02T10:30:40.010303",
     "exception": false,
     "start_time": "2020-09-02T10:30:39.977654",
     "status": "completed"
    },
    "tags": []
   },
   "source": [
    "# Train Test Split"
   ]
  },
  {
   "cell_type": "code",
   "execution_count": 7,
   "metadata": {
    "execution": {
     "iopub.execute_input": "2020-09-02T10:30:40.081812Z",
     "iopub.status.busy": "2020-09-02T10:30:40.080999Z",
     "iopub.status.idle": "2020-09-02T10:30:40.083976Z",
     "shell.execute_reply": "2020-09-02T10:30:40.083253Z"
    },
    "papermill": {
     "duration": 0.040752,
     "end_time": "2020-09-02T10:30:40.084103",
     "exception": false,
     "start_time": "2020-09-02T10:30:40.043351",
     "status": "completed"
    },
    "tags": []
   },
   "outputs": [],
   "source": [
    "from sklearn.model_selection import train_test_split"
   ]
  },
  {
   "cell_type": "code",
   "execution_count": 8,
   "metadata": {
    "execution": {
     "iopub.execute_input": "2020-09-02T10:30:40.161401Z",
     "iopub.status.busy": "2020-09-02T10:30:40.160563Z",
     "iopub.status.idle": "2020-09-02T10:30:40.171935Z",
     "shell.execute_reply": "2020-09-02T10:30:40.171097Z"
    },
    "papermill": {
     "duration": 0.0536,
     "end_time": "2020-09-02T10:30:40.172067",
     "exception": false,
     "start_time": "2020-09-02T10:30:40.118467",
     "status": "completed"
    },
    "tags": []
   },
   "outputs": [],
   "source": [
    "X_train, X_test, y_train, y_test = train_test_split(df['text'],df['target'],stratify=df['target'],test_size=0.20, random_state=42)"
   ]
  },
  {
   "cell_type": "markdown",
   "execution_count": null,
   "metadata": {
    "papermill": {
     "duration": 0.035014,
     "end_time": "2020-09-02T10:30:40.242417",
     "exception": false,
     "start_time": "2020-09-02T10:30:40.207403",
     "status": "completed"
    },
    "tags": []
   },
   "source": [
    "# Preprocessing"
   ]
  },
  {
   "cell_type": "code",
   "execution_count": 9,
   "metadata": {
    "execution": {
     "iopub.execute_input": "2020-09-02T10:30:40.317732Z",
     "iopub.status.busy": "2020-09-02T10:30:40.316630Z",
     "iopub.status.idle": "2020-09-02T10:30:40.320886Z",
     "shell.execute_reply": "2020-09-02T10:30:40.320023Z"
    },
    "papermill": {
     "duration": 0.044819,
     "end_time": "2020-09-02T10:30:40.321050",
     "exception": false,
     "start_time": "2020-09-02T10:30:40.276231",
     "status": "completed"
    },
    "tags": []
   },
   "outputs": [],
   "source": [
    "from sklearn.metrics import f1_score\n",
    "from sklearn.metrics import classification_report\n",
    "from sklearn.feature_extraction.text import CountVectorizer, TfidfTransformer"
   ]
  },
  {
   "cell_type": "markdown",
   "execution_count": null,
   "metadata": {
    "papermill": {
     "duration": 0.032728,
     "end_time": "2020-09-02T10:30:40.388325",
     "exception": false,
     "start_time": "2020-09-02T10:30:40.355597",
     "status": "completed"
    },
    "tags": []
   },
   "source": [
    "# Models "
   ]
  },
  {
   "cell_type": "code",
   "execution_count": 10,
   "metadata": {
    "execution": {
     "iopub.execute_input": "2020-09-02T10:30:40.464901Z",
     "iopub.status.busy": "2020-09-02T10:30:40.463934Z",
     "iopub.status.idle": "2020-09-02T10:30:40.649796Z",
     "shell.execute_reply": "2020-09-02T10:30:40.650519Z"
    },
    "papermill": {
     "duration": 0.228867,
     "end_time": "2020-09-02T10:30:40.650708",
     "exception": false,
     "start_time": "2020-09-02T10:30:40.421841",
     "status": "completed"
    },
    "tags": []
   },
   "outputs": [
    {
     "name": "stdout",
     "output_type": "stream",
     "text": [
      "Model : Naive Bayes\n",
      "Train :                precision    recall  f1-score   support\n",
      "\n",
      "           0       0.93      0.98      0.95      2161\n",
      "           1       0.95      0.84      0.89      1000\n",
      "\n",
      "    accuracy                           0.94      3161\n",
      "   macro avg       0.94      0.91      0.92      3161\n",
      "weighted avg       0.94      0.94      0.93      3161\n",
      "\n",
      "Validation :                precision    recall  f1-score   support\n",
      "\n",
      "           0       0.84      0.94      0.89       541\n",
      "           1       0.83      0.62      0.71       250\n",
      "\n",
      "    accuracy                           0.84       791\n",
      "   macro avg       0.84      0.78      0.80       791\n",
      "weighted avg       0.84      0.84      0.83       791\n",
      "\n"
     ]
    }
   ],
   "source": [
    "# Naive Bayes\n",
    "from sklearn.pipeline import Pipeline\n",
    "from sklearn.naive_bayes import MultinomialNB\n",
    "text_clf = Pipeline([\n",
    "    ('vect', CountVectorizer()),\n",
    "    ('tfidf', TfidfTransformer()),\n",
    "    ('clf', MultinomialNB()), ])\n",
    "text_clf.fit(X_train,y_train)\n",
    "print(\"Model : Naive Bayes\")\n",
    "print(\"Train : \", classification_report(y_train,text_clf.predict(X_train)))\n",
    "print(\"Validation : \", classification_report(y_test,text_clf.predict(X_test)))\n",
    "#joblib.dump(pipeline, 'model.joblib')\n"
   ]
  },
  {
   "cell_type": "code",
   "execution_count": 11,
   "metadata": {
    "execution": {
     "iopub.execute_input": "2020-09-02T10:30:40.737854Z",
     "iopub.status.busy": "2020-09-02T10:30:40.732631Z",
     "iopub.status.idle": "2020-09-02T10:30:40.938589Z",
     "shell.execute_reply": "2020-09-02T10:30:40.937630Z"
    },
    "papermill": {
     "duration": 0.25404,
     "end_time": "2020-09-02T10:30:40.938779",
     "exception": false,
     "start_time": "2020-09-02T10:30:40.684739",
     "status": "completed"
    },
    "tags": []
   },
   "outputs": [
    {
     "name": "stdout",
     "output_type": "stream",
     "text": [
      "Model : SVM\n",
      "Train :                precision    recall  f1-score   support\n",
      "\n",
      "           0       0.90      0.96      0.93      2161\n",
      "           1       0.91      0.76      0.83      1000\n",
      "\n",
      "    accuracy                           0.90      3161\n",
      "   macro avg       0.90      0.86      0.88      3161\n",
      "weighted avg       0.90      0.90      0.90      3161\n",
      "\n",
      "Validation :                precision    recall  f1-score   support\n",
      "\n",
      "           0       0.88      0.95      0.92       541\n",
      "           1       0.87      0.73      0.79       250\n",
      "\n",
      "    accuracy                           0.88       791\n",
      "   macro avg       0.88      0.84      0.85       791\n",
      "weighted avg       0.88      0.88      0.88       791\n",
      "\n"
     ]
    }
   ],
   "source": [
    "from sklearn.linear_model import SGDClassifier\n",
    "text_clf = Pipeline([ ('vect', CountVectorizer()),\n",
    "                     ('tfidf', TfidfTransformer()),\n",
    "                     ('clf', SGDClassifier(loss='hinge', penalty='l2',\n",
    "                                           alpha=1e-3, random_state=42,                           \n",
    "                                           max_iter=5, tol=None)),])\n",
    "text_clf.fit(X_train,y_train)\n",
    "print(\"Model : SVM\")\n",
    "print(\"Train : \", classification_report(y_train,text_clf.predict(X_train)))\n",
    "print(\"Validation : \", classification_report(y_test,text_clf.predict(X_test)))\n"
   ]
  },
  {
   "cell_type": "code",
   "execution_count": 12,
   "metadata": {
    "execution": {
     "iopub.execute_input": "2020-09-02T10:30:41.033338Z",
     "iopub.status.busy": "2020-09-02T10:30:41.028142Z",
     "iopub.status.idle": "2020-09-02T10:30:41.295621Z",
     "shell.execute_reply": "2020-09-02T10:30:41.294647Z"
    },
    "papermill": {
     "duration": 0.320908,
     "end_time": "2020-09-02T10:30:41.295781",
     "exception": false,
     "start_time": "2020-09-02T10:30:40.974873",
     "status": "completed"
    },
    "tags": []
   },
   "outputs": [
    {
     "name": "stdout",
     "output_type": "stream",
     "text": [
      "Model : LogReg\n",
      "Train :                precision    recall  f1-score   support\n",
      "\n",
      "           0       0.89      0.97      0.93      2161\n",
      "           1       0.93      0.75      0.83      1000\n",
      "\n",
      "    accuracy                           0.90      3161\n",
      "   macro avg       0.91      0.86      0.88      3161\n",
      "weighted avg       0.90      0.90      0.90      3161\n",
      "\n",
      "Validation :                precision    recall  f1-score   support\n",
      "\n",
      "           0       0.88      0.96      0.92       541\n",
      "           1       0.89      0.71      0.79       250\n",
      "\n",
      "    accuracy                           0.88       791\n",
      "   macro avg       0.88      0.83      0.85       791\n",
      "weighted avg       0.88      0.88      0.87       791\n",
      "\n"
     ]
    }
   ],
   "source": [
    "from sklearn.linear_model import LogisticRegression\n",
    "text_clf = Pipeline([ ('vect', CountVectorizer()),\n",
    "                     ('tfidf', TfidfTransformer()),\n",
    "                     ('clf', LogisticRegression()),])\n",
    "text_clf.fit(X_train,y_train)\n",
    "print(\"Model : LogReg\")\n",
    "print(\"Train : \", classification_report(y_train,text_clf.predict(X_train)))\n",
    "print(\"Validation : \", classification_report(y_test,text_clf.predict(X_test)))\n"
   ]
  },
  {
   "cell_type": "markdown",
   "execution_count": null,
   "metadata": {
    "papermill": {
     "duration": 0.034596,
     "end_time": "2020-09-02T10:30:41.369477",
     "exception": false,
     "start_time": "2020-09-02T10:30:41.334881",
     "status": "completed"
    },
    "tags": []
   },
   "source": [
    "# LSTM Model"
   ]
  },
  {
   "cell_type": "code",
   "execution_count": 13,
   "metadata": {
    "_cell_guid": "79c7e3d0-c299-4dcb-8224-4455121ee9b0",
    "_uuid": "d629ff2d2480ee46fbb7e2d37f6b5fab8052498a",
    "execution": {
     "iopub.execute_input": "2020-09-02T10:30:41.445718Z",
     "iopub.status.busy": "2020-09-02T10:30:41.444775Z",
     "iopub.status.idle": "2020-09-02T10:30:48.370100Z",
     "shell.execute_reply": "2020-09-02T10:30:48.369415Z"
    },
    "papermill": {
     "duration": 6.966175,
     "end_time": "2020-09-02T10:30:48.370231",
     "exception": false,
     "start_time": "2020-09-02T10:30:41.404056",
     "status": "completed"
    },
    "tags": []
   },
   "outputs": [],
   "source": [
    "import tensorflow as tf\n",
    "from tensorflow.keras.preprocessing.text import Tokenizer\n",
    "from tensorflow.keras.preprocessing.sequence import pad_sequences\n",
    "from tensorflow.keras.models import Sequential\n",
    "from tensorflow.keras.layers import Dense, Flatten, LSTM, Dropout, Activation, Embedding, Bidirectional\n"
   ]
  },
  {
   "cell_type": "code",
   "execution_count": 14,
   "metadata": {
    "execution": {
     "iopub.execute_input": "2020-09-02T10:30:48.446589Z",
     "iopub.status.busy": "2020-09-02T10:30:48.445804Z",
     "iopub.status.idle": "2020-09-02T10:30:48.449549Z",
     "shell.execute_reply": "2020-09-02T10:30:48.448740Z"
    },
    "papermill": {
     "duration": 0.044835,
     "end_time": "2020-09-02T10:30:48.449682",
     "exception": false,
     "start_time": "2020-09-02T10:30:48.404847",
     "status": "completed"
    },
    "tags": []
   },
   "outputs": [],
   "source": [
    "vocab_size = 5000 \n",
    "embedding_dim = 64\n",
    "lstm_hidden_units = 128\n",
    "max_length = 200\n",
    "trunc_type = 'post'\n",
    "padding_type = 'post'\n",
    "oov_tok = '<OOV>' \n",
    "training_portion = .8"
   ]
  },
  {
   "cell_type": "code",
   "execution_count": 15,
   "metadata": {
    "execution": {
     "iopub.execute_input": "2020-09-02T10:30:48.553834Z",
     "iopub.status.busy": "2020-09-02T10:30:48.548617Z",
     "iopub.status.idle": "2020-09-02T10:30:48.625433Z",
     "shell.execute_reply": "2020-09-02T10:30:48.624503Z"
    },
    "papermill": {
     "duration": 0.141464,
     "end_time": "2020-09-02T10:30:48.625569",
     "exception": false,
     "start_time": "2020-09-02T10:30:48.484105",
     "status": "completed"
    },
    "tags": []
   },
   "outputs": [],
   "source": [
    "tokenizer = Tokenizer(num_words = vocab_size, oov_token=oov_tok)\n",
    "tokenizer.fit_on_texts(df['text'])\n",
    "word_index = tokenizer.word_index"
   ]
  },
  {
   "cell_type": "code",
   "execution_count": 16,
   "metadata": {
    "execution": {
     "iopub.execute_input": "2020-09-02T10:30:48.739307Z",
     "iopub.status.busy": "2020-09-02T10:30:48.723738Z",
     "iopub.status.idle": "2020-09-02T10:30:48.807330Z",
     "shell.execute_reply": "2020-09-02T10:30:48.806686Z"
    },
    "papermill": {
     "duration": 0.147894,
     "end_time": "2020-09-02T10:30:48.807476",
     "exception": false,
     "start_time": "2020-09-02T10:30:48.659582",
     "status": "completed"
    },
    "tags": []
   },
   "outputs": [],
   "source": [
    "train_sequences = tokenizer.texts_to_sequences(X_train)\n",
    "train_padded = pad_sequences(train_sequences, maxlen=max_length, padding=padding_type, truncating=trunc_type)\n",
    "\n",
    "valid_sequences = tokenizer.texts_to_sequences(X_test)\n",
    "valid_padded = pad_sequences(valid_sequences, maxlen=max_length, padding=padding_type, truncating=trunc_type)"
   ]
  },
  {
   "cell_type": "code",
   "execution_count": 17,
   "metadata": {
    "execution": {
     "iopub.execute_input": "2020-09-02T10:30:48.883117Z",
     "iopub.status.busy": "2020-09-02T10:30:48.882109Z",
     "iopub.status.idle": "2020-09-02T10:30:48.886435Z",
     "shell.execute_reply": "2020-09-02T10:30:48.885777Z"
    },
    "papermill": {
     "duration": 0.045018,
     "end_time": "2020-09-02T10:30:48.886577",
     "exception": false,
     "start_time": "2020-09-02T10:30:48.841559",
     "status": "completed"
    },
    "tags": []
   },
   "outputs": [],
   "source": [
    "train_labels = tf.keras.utils.to_categorical(\n",
    "    y_train, num_classes=2, dtype='float32')\n",
    "\n",
    "valid_labels = tf.keras.utils.to_categorical(y_test,\n",
    "                                            num_classes=2,\n",
    "                                            dtype=\"float32\")"
   ]
  },
  {
   "cell_type": "code",
   "execution_count": 18,
   "metadata": {
    "execution": {
     "iopub.execute_input": "2020-09-02T10:30:48.965905Z",
     "iopub.status.busy": "2020-09-02T10:30:48.965042Z",
     "iopub.status.idle": "2020-09-02T10:30:50.128116Z",
     "shell.execute_reply": "2020-09-02T10:30:50.127147Z"
    },
    "papermill": {
     "duration": 1.206504,
     "end_time": "2020-09-02T10:30:50.128329",
     "exception": false,
     "start_time": "2020-09-02T10:30:48.921825",
     "status": "completed"
    },
    "tags": []
   },
   "outputs": [
    {
     "name": "stdout",
     "output_type": "stream",
     "text": [
      "Model: \"sequential\"\n",
      "_________________________________________________________________\n",
      "Layer (type)                 Output Shape              Param #   \n",
      "=================================================================\n",
      "embedding (Embedding)        (None, None, 64)          320000    \n",
      "_________________________________________________________________\n",
      "dropout (Dropout)            (None, None, 64)          0         \n",
      "_________________________________________________________________\n",
      "bidirectional (Bidirectional (None, 256)               197632    \n",
      "_________________________________________________________________\n",
      "dense (Dense)                (None, 2)                 514       \n",
      "=================================================================\n",
      "Total params: 518,146\n",
      "Trainable params: 518,146\n",
      "Non-trainable params: 0\n",
      "_________________________________________________________________\n"
     ]
    }
   ],
   "source": [
    "model = Sequential()\n",
    "\n",
    "model.add(Embedding(vocab_size, embedding_dim))\n",
    "model.add(Dropout(0.3))\n",
    "model.add(Bidirectional(LSTM(lstm_hidden_units)))\n",
    "model.add(Dense(2, activation='sigmoid'))\n",
    "\n",
    "model.summary()"
   ]
  },
  {
   "cell_type": "code",
   "execution_count": 19,
   "metadata": {
    "execution": {
     "iopub.execute_input": "2020-09-02T10:30:50.216109Z",
     "iopub.status.busy": "2020-09-02T10:30:50.214968Z",
     "iopub.status.idle": "2020-09-02T10:30:50.223026Z",
     "shell.execute_reply": "2020-09-02T10:30:50.223605Z"
    },
    "papermill": {
     "duration": 0.059326,
     "end_time": "2020-09-02T10:30:50.223783",
     "exception": false,
     "start_time": "2020-09-02T10:30:50.164457",
     "status": "completed"
    },
    "tags": []
   },
   "outputs": [],
   "source": [
    "opt = tf.keras.optimizers.Adam(lr=0.001, decay=1e-6)\n",
    "model.compile(\n",
    "    loss='binary_crossentropy',\n",
    "    optimizer=opt,\n",
    "    metrics=['accuracy'],\n",
    ")"
   ]
  },
  {
   "cell_type": "code",
   "execution_count": 20,
   "metadata": {
    "execution": {
     "iopub.execute_input": "2020-09-02T10:30:50.301261Z",
     "iopub.status.busy": "2020-09-02T10:30:50.300410Z",
     "iopub.status.idle": "2020-09-02T10:31:41.808609Z",
     "shell.execute_reply": "2020-09-02T10:31:41.809549Z"
    },
    "papermill": {
     "duration": 51.551293,
     "end_time": "2020-09-02T10:31:41.809787",
     "exception": false,
     "start_time": "2020-09-02T10:30:50.258494",
     "status": "completed"
    },
    "tags": []
   },
   "outputs": [
    {
     "name": "stdout",
     "output_type": "stream",
     "text": [
      "Epoch 1/2\n",
      "99/99 - 24s - loss: 0.5036 - accuracy: 0.7574 - val_loss: 0.3024 - val_accuracy: 0.8824\n",
      "Epoch 2/2\n",
      "99/99 - 23s - loss: 0.2318 - accuracy: 0.9184 - val_loss: 0.2768 - val_accuracy: 0.8862\n"
     ]
    }
   ],
   "source": [
    "num_epochs = 2\n",
    "history = model.fit(train_padded, train_labels, \n",
    "                    epochs=num_epochs, \n",
    "                    validation_data=(valid_padded, valid_labels), \n",
    "                    verbose=2)"
   ]
  },
  {
   "cell_type": "code",
   "execution_count": null,
   "metadata": {
    "papermill": {
     "duration": 0.034665,
     "end_time": "2020-09-02T10:31:41.881382",
     "exception": false,
     "start_time": "2020-09-02T10:31:41.846717",
     "status": "completed"
    },
    "tags": []
   },
   "outputs": [],
   "source": []
  },
  {
   "cell_type": "code",
   "execution_count": 21,
   "metadata": {
    "execution": {
     "iopub.execute_input": "2020-09-02T10:31:41.985903Z",
     "iopub.status.busy": "2020-09-02T10:31:41.984711Z",
     "iopub.status.idle": "2020-09-02T10:31:49.043910Z",
     "shell.execute_reply": "2020-09-02T10:31:49.044914Z"
    },
    "papermill": {
     "duration": 7.123353,
     "end_time": "2020-09-02T10:31:49.045092",
     "exception": false,
     "start_time": "2020-09-02T10:31:41.921739",
     "status": "completed"
    },
    "tags": []
   },
   "outputs": [
    {
     "name": "stdout",
     "output_type": "stream",
     "text": [
      "              precision    recall  f1-score   support\n",
      "\n",
      "           0       0.96      0.97      0.96      2161\n",
      "           1       0.93      0.92      0.92      1000\n",
      "\n",
      "    accuracy                           0.95      3161\n",
      "   macro avg       0.94      0.94      0.94      3161\n",
      "weighted avg       0.95      0.95      0.95      3161\n",
      "\n"
     ]
    }
   ],
   "source": [
    "print(classification_report(y_train,model.predict_classes(train_padded)))"
   ]
  },
  {
   "cell_type": "code",
   "execution_count": 22,
   "metadata": {
    "execution": {
     "iopub.execute_input": "2020-09-02T10:31:49.127194Z",
     "iopub.status.busy": "2020-09-02T10:31:49.125982Z",
     "iopub.status.idle": "2020-09-02T10:31:50.749972Z",
     "shell.execute_reply": "2020-09-02T10:31:50.749236Z"
    },
    "papermill": {
     "duration": 1.667795,
     "end_time": "2020-09-02T10:31:50.750130",
     "exception": false,
     "start_time": "2020-09-02T10:31:49.082335",
     "status": "completed"
    },
    "tags": []
   },
   "outputs": [
    {
     "name": "stdout",
     "output_type": "stream",
     "text": [
      "              precision    recall  f1-score   support\n",
      "\n",
      "           0       0.91      0.93      0.92       541\n",
      "           1       0.83      0.80      0.82       250\n",
      "\n",
      "    accuracy                           0.89       791\n",
      "   macro avg       0.87      0.86      0.87       791\n",
      "weighted avg       0.89      0.89      0.89       791\n",
      "\n"
     ]
    }
   ],
   "source": [
    "print(classification_report(y_test,model.predict_classes(valid_padded)))"
   ]
  },
  {
   "cell_type": "code",
   "execution_count": null,
   "metadata": {
    "papermill": {
     "duration": 0.036372,
     "end_time": "2020-09-02T10:31:50.825008",
     "exception": false,
     "start_time": "2020-09-02T10:31:50.788636",
     "status": "completed"
    },
    "tags": []
   },
   "outputs": [],
   "source": []
  }
 ],
 "metadata": {
  "kernelspec": {
   "display_name": "Python 3",
   "language": "python",
   "name": "python3"
  },
  "language_info": {
   "codemirror_mode": {
    "name": "ipython",
    "version": 3
   },
   "file_extension": ".py",
   "mimetype": "text/x-python",
   "name": "python",
   "nbconvert_exporter": "python",
   "pygments_lexer": "ipython3",
   "version": "3.7.6"
  },
  "papermill": {
   "duration": 104.254734,
   "end_time": "2020-09-02T10:31:50.971174",
   "environment_variables": {},
   "exception": null,
   "input_path": "__notebook__.ipynb",
   "output_path": "__notebook__.ipynb",
   "parameters": {},
   "start_time": "2020-09-02T10:30:06.716440",
   "version": "2.1.0"
  }
 },
 "nbformat": 4,
 "nbformat_minor": 4
}
