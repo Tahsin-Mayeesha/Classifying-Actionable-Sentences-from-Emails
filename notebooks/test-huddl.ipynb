{
 "cells": [
  {
   "cell_type": "code",
   "execution_count": 1,
   "metadata": {
    "_cell_guid": "b1076dfc-b9ad-4769-8c92-a6c4dae69d19",
    "_uuid": "8f2839f25d086af736a60e9eeb907d3b93b6e0e5",
    "execution": {
     "iopub.execute_input": "2020-08-19T04:15:51.059002Z",
     "iopub.status.busy": "2020-08-19T04:15:51.058200Z",
     "iopub.status.idle": "2020-08-19T04:15:51.065837Z",
     "shell.execute_reply": "2020-08-19T04:15:51.064825Z"
    },
    "papermill": {
     "duration": 0.026505,
     "end_time": "2020-08-19T04:15:51.066042",
     "exception": false,
     "start_time": "2020-08-19T04:15:51.039537",
     "status": "completed"
    },
    "tags": []
   },
   "outputs": [
    {
     "name": "stdout",
     "output_type": "stream",
     "text": [
      "/kaggle/input/enron-email-dataset/emails.csv\n"
     ]
    }
   ],
   "source": [
    "# This Python 3 environment comes with many helpful analytics libraries installed\n",
    "# It is defined by the kaggle/python Docker image: https://github.com/kaggle/docker-python\n",
    "# For example, here's several helpful packages to load\n",
    "\n",
    "import numpy as np # linear algebra\n",
    "import pandas as pd # data processing, CSV file I/O (e.g. pd.read_csv)\n",
    "\n",
    "# Input data files are available in the read-only \"../input/\" directory\n",
    "# For example, running this (by clicking run or pressing Shift+Enter) will list all files under the input directory\n",
    "\n",
    "import os\n",
    "for dirname, _, filenames in os.walk('/kaggle/input'):\n",
    "    for filename in filenames:\n",
    "        print(os.path.join(dirname, filename))\n",
    "\n",
    "# You can write up to 5GB to the current directory (/kaggle/working/) that gets preserved as output when you create a version using \"Save & Run All\" \n",
    "# You can also write temporary files to /kaggle/temp/, but they won't be saved outside of the current session"
   ]
  },
  {
   "cell_type": "code",
   "execution_count": 2,
   "metadata": {
    "_cell_guid": "79c7e3d0-c299-4dcb-8224-4455121ee9b0",
    "_uuid": "d629ff2d2480ee46fbb7e2d37f6b5fab8052498a",
    "execution": {
     "iopub.execute_input": "2020-08-19T04:15:51.095417Z",
     "iopub.status.busy": "2020-08-19T04:15:51.094569Z",
     "iopub.status.idle": "2020-08-19T04:16:06.709329Z",
     "shell.execute_reply": "2020-08-19T04:16:06.708597Z"
    },
    "papermill": {
     "duration": 15.632645,
     "end_time": "2020-08-19T04:16:06.709467",
     "exception": false,
     "start_time": "2020-08-19T04:15:51.076822",
     "status": "completed"
    },
    "tags": []
   },
   "outputs": [],
   "source": [
    "emails = pd.read_csv(\"/kaggle/input/enron-email-dataset/emails.csv\")"
   ]
  },
  {
   "cell_type": "code",
   "execution_count": 3,
   "metadata": {
    "execution": {
     "iopub.execute_input": "2020-08-19T04:16:06.734988Z",
     "iopub.status.busy": "2020-08-19T04:16:06.734073Z",
     "iopub.status.idle": "2020-08-19T04:16:06.737815Z",
     "shell.execute_reply": "2020-08-19T04:16:06.736992Z"
    },
    "papermill": {
     "duration": 0.018475,
     "end_time": "2020-08-19T04:16:06.737946",
     "exception": false,
     "start_time": "2020-08-19T04:16:06.719471",
     "status": "completed"
    },
    "tags": []
   },
   "outputs": [],
   "source": [
    "import email"
   ]
  },
  {
   "cell_type": "code",
   "execution_count": 4,
   "metadata": {
    "execution": {
     "iopub.execute_input": "2020-08-19T04:16:06.764664Z",
     "iopub.status.busy": "2020-08-19T04:16:06.763478Z",
     "iopub.status.idle": "2020-08-19T04:16:06.766547Z",
     "shell.execute_reply": "2020-08-19T04:16:06.767177Z"
    },
    "papermill": {
     "duration": 0.019911,
     "end_time": "2020-08-19T04:16:06.767378",
     "exception": false,
     "start_time": "2020-08-19T04:16:06.747467",
     "status": "completed"
    },
    "tags": []
   },
   "outputs": [],
   "source": [
    "def get_content_from_email(message):\n",
    "    message = email.message_from_string(message)\n",
    "    for part in message.walk():\n",
    "        text = part.get_payload()\n",
    "    return text"
   ]
  },
  {
   "cell_type": "code",
   "execution_count": 5,
   "metadata": {
    "execution": {
     "iopub.execute_input": "2020-08-19T04:16:06.831764Z",
     "iopub.status.busy": "2020-08-19T04:16:06.810702Z",
     "iopub.status.idle": "2020-08-19T04:18:05.452182Z",
     "shell.execute_reply": "2020-08-19T04:18:05.451403Z"
    },
    "papermill": {
     "duration": 118.674773,
     "end_time": "2020-08-19T04:18:05.452351",
     "exception": false,
     "start_time": "2020-08-19T04:16:06.777578",
     "status": "completed"
    },
    "tags": []
   },
   "outputs": [],
   "source": [
    "email_texts = []\n",
    "\n",
    "for message in emails['message']:\n",
    "    email_texts.append(get_content_from_email(message))"
   ]
  },
  {
   "cell_type": "code",
   "execution_count": 6,
   "metadata": {
    "execution": {
     "iopub.execute_input": "2020-08-19T04:18:05.477519Z",
     "iopub.status.busy": "2020-08-19T04:18:05.476708Z",
     "iopub.status.idle": "2020-08-19T04:18:05.480429Z",
     "shell.execute_reply": "2020-08-19T04:18:05.479736Z"
    },
    "papermill": {
     "duration": 0.018232,
     "end_time": "2020-08-19T04:18:05.480557",
     "exception": false,
     "start_time": "2020-08-19T04:18:05.462325",
     "status": "completed"
    },
    "tags": []
   },
   "outputs": [],
   "source": [
    "#pd.Series(email_texts).to_csv(\"email_texts.csv\")"
   ]
  },
  {
   "cell_type": "code",
   "execution_count": 7,
   "metadata": {
    "execution": {
     "iopub.execute_input": "2020-08-19T04:18:05.632644Z",
     "iopub.status.busy": "2020-08-19T04:18:05.511939Z",
     "iopub.status.idle": "2020-08-19T04:18:07.465247Z",
     "shell.execute_reply": "2020-08-19T04:18:07.464426Z"
    },
    "papermill": {
     "duration": 1.974762,
     "end_time": "2020-08-19T04:18:07.465385",
     "exception": false,
     "start_time": "2020-08-19T04:18:05.490623",
     "status": "completed"
    },
    "tags": []
   },
   "outputs": [],
   "source": [
    "all_email_text = pd.Series(email_texts).str.cat()"
   ]
  },
  {
   "cell_type": "code",
   "execution_count": 8,
   "metadata": {
    "execution": {
     "iopub.execute_input": "2020-08-19T04:18:07.543292Z",
     "iopub.status.busy": "2020-08-19T04:18:07.527833Z",
     "iopub.status.idle": "2020-08-19T04:18:39.246692Z",
     "shell.execute_reply": "2020-08-19T04:18:39.245277Z"
    },
    "papermill": {
     "duration": 31.771335,
     "end_time": "2020-08-19T04:18:39.246901",
     "exception": false,
     "start_time": "2020-08-19T04:18:07.475566",
     "status": "completed"
    },
    "tags": []
   },
   "outputs": [],
   "source": [
    "filter_words = [\"Forwarded\",\"Subject\",\"<\",\">\",\"From\",\"To\",\"cc\",\"--\",\"Report as of\"]\n",
    "text_len = 5\n",
    "\n",
    "def test_filter_words(text):\n",
    "    for filter_word in filter_words:\n",
    "        if filter_word in text:\n",
    "            return False\n",
    "    else:\n",
    "        return True\n",
    "    \n",
    "def preprocess_email(email):\n",
    "    result = []\n",
    "    email = email.split(\"\\n\\n\")\n",
    "    paragraph_sentences = []\n",
    "    for item in email:\n",
    "        paragraph_sentences.extend(item.split(\".\"))\n",
    "    for text in paragraph_sentences:\n",
    "        text = text.strip()\n",
    "        if text != '' and test_filter_words(text) and len(text) >= text_len :\n",
    "            result.append(text)\n",
    "    return result\n",
    "\n",
    "email_sentences = []\n",
    "for email in email_texts:\n",
    "    email_sentences.extend(preprocess_email(email))"
   ]
  },
  {
   "cell_type": "code",
   "execution_count": 9,
   "metadata": {
    "execution": {
     "iopub.execute_input": "2020-08-19T04:18:41.123677Z",
     "iopub.status.busy": "2020-08-19T04:18:39.294531Z",
     "iopub.status.idle": "2020-08-19T04:19:35.154282Z",
     "shell.execute_reply": "2020-08-19T04:19:35.153485Z"
    },
    "papermill": {
     "duration": 55.888481,
     "end_time": "2020-08-19T04:19:35.154436",
     "exception": false,
     "start_time": "2020-08-19T04:18:39.265955",
     "status": "completed"
    },
    "tags": []
   },
   "outputs": [],
   "source": [
    "pd.Series(email_sentences).to_csv(\"email_sentences.csv\")"
   ]
  }
 ],
 "metadata": {
  "kernelspec": {
   "display_name": "Python 3",
   "language": "python",
   "name": "python3"
  },
  "language_info": {
   "codemirror_mode": {
    "name": "ipython",
    "version": 3
   },
   "file_extension": ".py",
   "mimetype": "text/x-python",
   "name": "python",
   "nbconvert_exporter": "python",
   "pygments_lexer": "ipython3",
   "version": "3.7.6"
  },
  "papermill": {
   "duration": 229.643289,
   "end_time": "2020-08-19T04:19:35.375537",
   "environment_variables": {},
   "exception": null,
   "input_path": "__notebook__.ipynb",
   "output_path": "__notebook__.ipynb",
   "parameters": {},
   "start_time": "2020-08-19T04:15:45.732248",
   "version": "2.1.0"
  }
 },
 "nbformat": 4,
 "nbformat_minor": 4
}
